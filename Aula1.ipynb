{
  "nbformat": 4,
  "nbformat_minor": 0,
  "metadata": {
    "colab": {
      "name": "Aula1.ipynb",
      "provenance": [],
      "authorship_tag": "ABX9TyPCUktQuNIDjR/9HX/IQI7r",
      "include_colab_link": true
    },
    "kernelspec": {
      "name": "python3",
      "display_name": "Python 3"
    },
    "language_info": {
      "name": "python"
    }
  },
  "cells": [
    {
      "cell_type": "markdown",
      "metadata": {
        "id": "view-in-github",
        "colab_type": "text"
      },
      "source": [
        "<a href=\"https://colab.research.google.com/github/taguinara/learn_python/blob/main/Aula1.ipynb\" target=\"_parent\"><img src=\"https://colab.research.google.com/assets/colab-badge.svg\" alt=\"Open In Colab\"/></a>"
      ]
    },
    {
      "cell_type": "markdown",
      "metadata": {
        "id": "CzrqoKnkZ6nC"
      },
      "source": [
        "# **Aula 1: Introdução ao Python**"
      ]
    },
    {
      "cell_type": "markdown",
      "metadata": {
        "id": "TeIX832VaqO_"
      },
      "source": [
        "1) Variáveis: São os espaços de memória criado pela linguagem para você manipular e armazenar dados. Para usar uma variável basta escolher uma letra ou palavra e atribuir um valor a ela com o sinal de \"=\".\n",
        "\n",
        "(i) Int"
      ]
    },
    {
      "cell_type": "code",
      "metadata": {
        "colab": {
          "base_uri": "https://localhost:8080/"
        },
        "id": "d9Uq6siaaOmj",
        "outputId": "90b73796-d28c-463c-b006-bd53e0ae3ab7"
      },
      "source": [
        "x = 7\n",
        "x"
      ],
      "execution_count": null,
      "outputs": [
        {
          "output_type": "execute_result",
          "data": {
            "text/plain": [
              "7"
            ]
          },
          "metadata": {},
          "execution_count": 1
        }
      ]
    },
    {
      "cell_type": "markdown",
      "metadata": {
        "id": "meRHSDA3bcJX"
      },
      "source": [
        "(ii) Float "
      ]
    },
    {
      "cell_type": "code",
      "metadata": {
        "colab": {
          "base_uri": "https://localhost:8080/"
        },
        "id": "LQ2lDTPEbg1K",
        "outputId": "20650787-91cc-4d9d-c823-368483daad1f"
      },
      "source": [
        "y = 7.1\n",
        "y"
      ],
      "execution_count": null,
      "outputs": [
        {
          "output_type": "execute_result",
          "data": {
            "text/plain": [
              "7.1"
            ]
          },
          "metadata": {},
          "execution_count": 2
        }
      ]
    },
    {
      "cell_type": "code",
      "metadata": {
        "colab": {
          "base_uri": "https://localhost:8080/"
        },
        "id": "Hp9GrdK8buTL",
        "outputId": "d88a17eb-3d6e-463b-bf4a-68584f4310b9"
      },
      "source": [
        "type(y)"
      ],
      "execution_count": null,
      "outputs": [
        {
          "output_type": "execute_result",
          "data": {
            "text/plain": [
              "float"
            ]
          },
          "metadata": {},
          "execution_count": 3
        }
      ]
    },
    {
      "cell_type": "markdown",
      "metadata": {
        "id": "bMn35plub0nD"
      },
      "source": [
        "(iii) String"
      ]
    },
    {
      "cell_type": "code",
      "metadata": {
        "colab": {
          "base_uri": "https://localhost:8080/",
          "height": 36
        },
        "id": "iFJgF9_Hb7Qa",
        "outputId": "ce71fc1d-4a76-44b9-99c7-a1eb735ce397"
      },
      "source": [
        "z = \"neuron\"\n",
        "z"
      ],
      "execution_count": null,
      "outputs": [
        {
          "output_type": "execute_result",
          "data": {
            "application/vnd.google.colaboratory.intrinsic+json": {
              "type": "string"
            },
            "text/plain": [
              "'neuron'"
            ]
          },
          "metadata": {},
          "execution_count": 4
        }
      ]
    },
    {
      "cell_type": "code",
      "metadata": {
        "colab": {
          "base_uri": "https://localhost:8080/"
        },
        "id": "DBXCCjBjcBFj",
        "outputId": "d208c160-a01a-452e-af77-2d8105a99be3"
      },
      "source": [
        "type(z)"
      ],
      "execution_count": null,
      "outputs": [
        {
          "output_type": "execute_result",
          "data": {
            "text/plain": [
              "str"
            ]
          },
          "metadata": {},
          "execution_count": 5
        }
      ]
    },
    {
      "cell_type": "markdown",
      "metadata": {
        "id": "lRzJ-VYUcRk9"
      },
      "source": [
        "input():"
      ]
    },
    {
      "cell_type": "code",
      "metadata": {
        "colab": {
          "base_uri": "https://localhost:8080/",
          "height": 54
        },
        "id": "sX2Tp7YqcNeK",
        "outputId": "943584c1-7062-4bcf-e7c7-08f300cb5434"
      },
      "source": [
        "x = input(\"Hi, how old are you? \")\n",
        "x"
      ],
      "execution_count": null,
      "outputs": [
        {
          "name": "stdout",
          "output_type": "stream",
          "text": [
            "Hi, how old are you? 26\n"
          ]
        },
        {
          "output_type": "execute_result",
          "data": {
            "application/vnd.google.colaboratory.intrinsic+json": {
              "type": "string"
            },
            "text/plain": [
              "'26'"
            ]
          },
          "metadata": {},
          "execution_count": 6
        }
      ]
    },
    {
      "cell_type": "code",
      "metadata": {
        "colab": {
          "base_uri": "https://localhost:8080/"
        },
        "id": "fe4hv0R5cscU",
        "outputId": "fde0b818-1d81-4e19-dda6-b3aae7da513c"
      },
      "source": [
        "type(x)"
      ],
      "execution_count": null,
      "outputs": [
        {
          "output_type": "execute_result",
          "data": {
            "text/plain": [
              "str"
            ]
          },
          "metadata": {},
          "execution_count": 7
        }
      ]
    },
    {
      "cell_type": "code",
      "metadata": {
        "colab": {
          "base_uri": "https://localhost:8080/"
        },
        "id": "zkR99x-ndWav",
        "outputId": "bc9127e4-d1fb-4c29-f9b2-2171f530f417"
      },
      "source": [
        "x = int(input(\"Hi, how old are you? \"))\n",
        "print(type(x))"
      ],
      "execution_count": null,
      "outputs": [
        {
          "output_type": "stream",
          "name": "stdout",
          "text": [
            "Hi, how old are you? 26\n",
            "<class 'int'>\n"
          ]
        }
      ]
    },
    {
      "cell_type": "code",
      "metadata": {
        "colab": {
          "base_uri": "https://localhost:8080/"
        },
        "id": "81GydnKudohd",
        "outputId": "e3b75e5d-ba3e-4744-ce54-3ff05899a7e2"
      },
      "source": [
        "print(x)"
      ],
      "execution_count": null,
      "outputs": [
        {
          "output_type": "stream",
          "name": "stdout",
          "text": [
            "26\n"
          ]
        }
      ]
    },
    {
      "cell_type": "code",
      "metadata": {
        "colab": {
          "base_uri": "https://localhost:8080/"
        },
        "id": "o_OEx1rOdstd",
        "outputId": "190bc143-396e-40ba-c8ef-1e10d07ad41a"
      },
      "source": [
        "x = float(input(\"Hi, how old are you? \"))\n",
        "print(type(x))\n",
        "print(x)"
      ],
      "execution_count": null,
      "outputs": [
        {
          "output_type": "stream",
          "name": "stdout",
          "text": [
            "Hi, how old are you? 26\n",
            "<class 'float'>\n",
            "26.0\n"
          ]
        }
      ]
    },
    {
      "cell_type": "code",
      "metadata": {
        "id": "9T6-7Dimd473"
      },
      "source": [
        "Caneta = \"Maiúsculo\"\n",
        "caneta = \"Minúsculo\""
      ],
      "execution_count": null,
      "outputs": []
    },
    {
      "cell_type": "code",
      "metadata": {
        "colab": {
          "base_uri": "https://localhost:8080/"
        },
        "id": "citRN02peOb6",
        "outputId": "2bd4b2be-34ed-4099-ee87-4317e423947e"
      },
      "source": [
        "Caneta, caneta"
      ],
      "execution_count": null,
      "outputs": [
        {
          "output_type": "execute_result",
          "data": {
            "text/plain": [
              "('Maiúsculo', 'Minúsculo')"
            ]
          },
          "metadata": {},
          "execution_count": 12
        }
      ]
    },
    {
      "cell_type": "code",
      "metadata": {
        "colab": {
          "base_uri": "https://localhost:8080/",
          "height": 36
        },
        "id": "pnEyOtP7eSRS",
        "outputId": "2851c6c3-3e41-4378-a816-62bad4686308"
      },
      "source": [
        "caneta_rosa = \"Pode\"\n",
        "caneta_rosa"
      ],
      "execution_count": null,
      "outputs": [
        {
          "output_type": "execute_result",
          "data": {
            "application/vnd.google.colaboratory.intrinsic+json": {
              "type": "string"
            },
            "text/plain": [
              "'Pode'"
            ]
          },
          "metadata": {},
          "execution_count": 15
        }
      ]
    },
    {
      "cell_type": "code",
      "metadata": {
        "colab": {
          "base_uri": "https://localhost:8080/",
          "height": 36
        },
        "id": "q6-S1UIYerBt",
        "outputId": "33e932e7-bc45-4a09-9eed-5fb76fa3d9f1"
      },
      "source": [
        "C4n3t1 = \"Pode\"\n",
        "C4n3t1"
      ],
      "execution_count": null,
      "outputs": [
        {
          "output_type": "execute_result",
          "data": {
            "application/vnd.google.colaboratory.intrinsic+json": {
              "type": "string"
            },
            "text/plain": [
              "'Pode'"
            ]
          },
          "metadata": {},
          "execution_count": 16
        }
      ]
    },
    {
      "cell_type": "code",
      "metadata": {
        "colab": {
          "base_uri": "https://localhost:8080/"
        },
        "id": "B1G9DmXhe1II",
        "outputId": "2ea82863-a313-45f5-8fec-c343c07ca18b"
      },
      "source": [
        "x = \"Olá, mundo!\"\n",
        "print(x)"
      ],
      "execution_count": null,
      "outputs": [
        {
          "output_type": "stream",
          "name": "stdout",
          "text": [
            "Olá, mundo!\n"
          ]
        }
      ]
    },
    {
      "cell_type": "code",
      "metadata": {
        "colab": {
          "base_uri": "https://localhost:8080/"
        },
        "id": "o6kWUD7HfCbs",
        "outputId": "cfb5b624-4727-4228-f607-d72ceb4926fd"
      },
      "source": [
        "print(\"Olá, mundo!\")"
      ],
      "execution_count": null,
      "outputs": [
        {
          "output_type": "stream",
          "name": "stdout",
          "text": [
            "Olá, mundo!\n"
          ]
        }
      ]
    },
    {
      "cell_type": "code",
      "metadata": {
        "colab": {
          "base_uri": "https://localhost:8080/"
        },
        "id": "tXU2CnRBfN7V",
        "outputId": "9fb18501-d1da-4f44-ef8e-a9ad81fb76b3"
      },
      "source": [
        "print(\"Olá, \"+\"Mundo!\")\n",
        "print(\"Olá,\"+\" \"+\"Mundo!\")"
      ],
      "execution_count": null,
      "outputs": [
        {
          "output_type": "stream",
          "name": "stdout",
          "text": [
            "Olá, Mundo!\n",
            "Olá, Mundo!\n"
          ]
        }
      ]
    },
    {
      "cell_type": "code",
      "metadata": {
        "colab": {
          "base_uri": "https://localhost:8080/"
        },
        "id": "3gCWL1mqfmy5",
        "outputId": "843e32b3-8538-4ac1-8091-ecf0a049f29b"
      },
      "source": [
        "a = \"Olá,\"\n",
        "b = \" Mundo!\"\n",
        "\n",
        "print(a + b)"
      ],
      "execution_count": null,
      "outputs": [
        {
          "output_type": "stream",
          "name": "stdout",
          "text": [
            "Olá, Mundo!\n"
          ]
        }
      ]
    },
    {
      "cell_type": "code",
      "metadata": {
        "colab": {
          "base_uri": "https://localhost:8080/"
        },
        "id": "DtaTwiM4f-fM",
        "outputId": "e8261845-a5ce-4dde-de29-ca3cf511f81a"
      },
      "source": [
        "x = \"caneta rosa\"\n",
        "len(x)"
      ],
      "execution_count": null,
      "outputs": [
        {
          "output_type": "execute_result",
          "data": {
            "text/plain": [
              "11"
            ]
          },
          "metadata": {},
          "execution_count": 25
        }
      ]
    },
    {
      "cell_type": "code",
      "metadata": {
        "colab": {
          "base_uri": "https://localhost:8080/",
          "height": 36
        },
        "id": "Ydyz94lWgDwo",
        "outputId": "071b61ba-57cc-4881-c7e3-68b036a2ccfe"
      },
      "source": [
        "x = \"caneta rosa\"\n",
        "x.capitalize()"
      ],
      "execution_count": null,
      "outputs": [
        {
          "output_type": "execute_result",
          "data": {
            "application/vnd.google.colaboratory.intrinsic+json": {
              "type": "string"
            },
            "text/plain": [
              "'Caneta rosa'"
            ]
          },
          "metadata": {},
          "execution_count": 26
        }
      ]
    },
    {
      "cell_type": "code",
      "metadata": {
        "colab": {
          "base_uri": "https://localhost:8080/"
        },
        "id": "zTrBTiy9gWQN",
        "outputId": "61376ee2-4d06-4694-fdde-07b018d71c99"
      },
      "source": [
        "x = \"caneta rosa\"\n",
        "x.split()"
      ],
      "execution_count": null,
      "outputs": [
        {
          "output_type": "execute_result",
          "data": {
            "text/plain": [
              "['caneta', 'rosa']"
            ]
          },
          "metadata": {},
          "execution_count": 27
        }
      ]
    },
    {
      "cell_type": "code",
      "metadata": {
        "colab": {
          "base_uri": "https://localhost:8080/"
        },
        "id": "QqaxOmn7ggk0",
        "outputId": "cdd121ea-df35-4f7a-c307-e3db5cf1cd5b"
      },
      "source": [
        "x = \"caneta\"\n",
        "print(x)\n",
        "print(x[0])\n",
        "print(x[1])\n",
        "print(x[5])"
      ],
      "execution_count": null,
      "outputs": [
        {
          "output_type": "stream",
          "name": "stdout",
          "text": [
            "caneta\n",
            "c\n",
            "a\n",
            "a\n"
          ]
        }
      ]
    },
    {
      "cell_type": "code",
      "metadata": {
        "colab": {
          "base_uri": "https://localhost:8080/"
        },
        "id": "MVpKTgNDgxD5",
        "outputId": "2a0b7f23-4bf0-400b-c4c5-1ca82c8e0d75"
      },
      "source": [
        "print(x)\n",
        "print(x[0:1])\n",
        "print(x[2:4])\n",
        "print(x[:4])\n",
        "print(x[4:])"
      ],
      "execution_count": null,
      "outputs": [
        {
          "output_type": "stream",
          "name": "stdout",
          "text": [
            "caneta\n",
            "c\n",
            "ne\n",
            "cane\n",
            "ta\n"
          ]
        }
      ]
    }
  ]
}