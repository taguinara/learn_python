{
  "nbformat": 4,
  "nbformat_minor": 0,
  "metadata": {
    "colab": {
      "name": "Aula2",
      "provenance": [],
      "authorship_tag": "ABX9TyOypD8U4mv3BLp6tEINLq6y",
      "include_colab_link": true
    },
    "kernelspec": {
      "name": "python3",
      "display_name": "Python 3"
    }
  },
  "cells": [
    {
      "cell_type": "markdown",
      "metadata": {
        "id": "view-in-github",
        "colab_type": "text"
      },
      "source": [
        "<a href=\"https://colab.research.google.com/github/taguinara/learn_python/blob/main/Aula2.ipynb\" target=\"_parent\"><img src=\"https://colab.research.google.com/assets/colab-badge.svg\" alt=\"Open In Colab\"/></a>"
      ]
    },
    {
      "cell_type": "code",
      "metadata": {
        "id": "sCptTTSkaB3g",
        "colab": {
          "base_uri": "https://localhost:8080/"
        },
        "outputId": "a626f8f1-cc61-466e-e4e2-02c618a6f894"
      },
      "source": [
        "nome = 'Michael'\n",
        "print (nome)"
      ],
      "execution_count": 15,
      "outputs": [
        {
          "output_type": "stream",
          "name": "stdout",
          "text": [
            "Michael\n"
          ]
        }
      ]
    },
    {
      "cell_type": "code",
      "metadata": {
        "id": "gcuimTOxbuwh",
        "colab": {
          "base_uri": "https://localhost:8080/",
          "height": 35
        },
        "outputId": "d0b8caca-bdee-4190-87b9-726c77030d89"
      },
      "source": [
        "nome = 'Guilherme'\n",
        "nome"
      ],
      "execution_count": 16,
      "outputs": [
        {
          "output_type": "execute_result",
          "data": {
            "application/vnd.google.colaboratory.intrinsic+json": {
              "type": "string"
            },
            "text/plain": [
              "'Guilherme'"
            ]
          },
          "metadata": {},
          "execution_count": 16
        }
      ]
    },
    {
      "cell_type": "code",
      "metadata": {
        "id": "FviVfpWtb5K9",
        "colab": {
          "base_uri": "https://localhost:8080/"
        },
        "outputId": "6d77741f-1955-4d0b-f0dc-f89886b30a04"
      },
      "source": [
        "idade = 25\n",
        "idade"
      ],
      "execution_count": 17,
      "outputs": [
        {
          "output_type": "execute_result",
          "data": {
            "text/plain": [
              "25"
            ]
          },
          "metadata": {},
          "execution_count": 17
        }
      ]
    },
    {
      "cell_type": "code",
      "metadata": {
        "id": "W32FFvPZc3FK",
        "colab": {
          "base_uri": "https://localhost:8080/"
        },
        "outputId": "93f27684-15bd-43a9-a795-109b3be1cb84"
      },
      "source": [
        "idade = idade + 3\n",
        "idade"
      ],
      "execution_count": 18,
      "outputs": [
        {
          "output_type": "execute_result",
          "data": {
            "text/plain": [
              "28"
            ]
          },
          "metadata": {},
          "execution_count": 18
        }
      ]
    },
    {
      "cell_type": "code",
      "metadata": {
        "id": "VqVWzDNrdC5m",
        "colab": {
          "base_uri": "https://localhost:8080/"
        },
        "outputId": "b9d477c5-c3a0-4883-eb43-33b617651402"
      },
      "source": [
        "idade"
      ],
      "execution_count": 19,
      "outputs": [
        {
          "output_type": "execute_result",
          "data": {
            "text/plain": [
              "28"
            ]
          },
          "metadata": {},
          "execution_count": 19
        }
      ]
    },
    {
      "cell_type": "code",
      "metadata": {
        "id": "fVgqmUbVdKd0"
      },
      "source": [
        "def mais_um_ano (idade) :\n",
        "  print('tá dentro dessa funçao')\n",
        "  return idade + 1"
      ],
      "execution_count": 20,
      "outputs": []
    },
    {
      "cell_type": "code",
      "metadata": {
        "id": "e2WGqYKAd8N2",
        "colab": {
          "base_uri": "https://localhost:8080/"
        },
        "outputId": "0f080b17-6dff-405e-ac07-b94c03ad3628"
      },
      "source": [
        "mais_um_ano(43)"
      ],
      "execution_count": 21,
      "outputs": [
        {
          "output_type": "stream",
          "name": "stdout",
          "text": [
            "tá dentro dessa funçao\n"
          ]
        },
        {
          "output_type": "execute_result",
          "data": {
            "text/plain": [
              "44"
            ]
          },
          "metadata": {},
          "execution_count": 21
        }
      ]
    },
    {
      "cell_type": "code",
      "metadata": {
        "id": "YIcUMXK_eXE1"
      },
      "source": [
        "filme1 = 'Toy Story 17'\n",
        "filme2 = 'A Xuxa contra o Baixa Astral'\n",
        "filme3 = 'Matrix 1'"
      ],
      "execution_count": 22,
      "outputs": []
    },
    {
      "cell_type": "code",
      "metadata": {
        "id": "q-V5kcdQfD8y",
        "colab": {
          "base_uri": "https://localhost:8080/"
        },
        "outputId": "e3e5b334-1614-46cf-d6d3-c8c8f677da20"
      },
      "source": [
        "filmes = ('Toy Story 17', 'Xuxa contra o Baixa Astral', 'Matrix 1')\n",
        "filmes"
      ],
      "execution_count": 23,
      "outputs": [
        {
          "output_type": "execute_result",
          "data": {
            "text/plain": [
              "('Toy Story 17', 'Xuxa contra o Baixa Astral', 'Matrix 1')"
            ]
          },
          "metadata": {},
          "execution_count": 23
        }
      ]
    },
    {
      "cell_type": "code",
      "metadata": {
        "id": "7AsanBfufQUE",
        "colab": {
          "base_uri": "https://localhost:8080/"
        },
        "outputId": "bb2bb8cf-f780-41ce-952f-4dfc9892816b"
      },
      "source": [
        "    filmes = (filme1, filme2, filme3)\n",
        "    filmes\n"
      ],
      "execution_count": 24,
      "outputs": [
        {
          "output_type": "execute_result",
          "data": {
            "text/plain": [
              "('Toy Story 17', 'A Xuxa contra o Baixa Astral', 'Matrix 1')"
            ]
          },
          "metadata": {},
          "execution_count": 24
        }
      ]
    },
    {
      "cell_type": "code",
      "metadata": {
        "id": "Och2QlgmgHcz"
      },
      "source": [
        "def imprime_filmes(filmes_que_quero_imprimir) :\n",
        "    print('A lista de filmes que eu tenho disponivel')\n",
        "    for filme in filmes_que_quero_imprimir:\n",
        "        print(filme)"
      ],
      "execution_count": 25,
      "outputs": []
    }
  ]
}